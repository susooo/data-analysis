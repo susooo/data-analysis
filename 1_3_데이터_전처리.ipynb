{
  "nbformat": 4,
  "nbformat_minor": 0,
  "metadata": {
    "colab": {
      "name": "1.3 데이터 전처리.ipynb",
      "provenance": [],
      "collapsed_sections": [],
      "authorship_tag": "ABX9TyMr/XY1J9rtFByUzpt6xhQ5",
      "include_colab_link": true
    },
    "kernelspec": {
      "name": "python3",
      "display_name": "Python 3"
    },
    "language_info": {
      "name": "python"
    }
  },
  "cells": [
    {
      "cell_type": "markdown",
      "metadata": {
        "id": "view-in-github",
        "colab_type": "text"
      },
      "source": [
        "<a href=\"https://colab.research.google.com/github/susooo/data-analysis/blob/main/1_3_%EB%8D%B0%EC%9D%B4%ED%84%B0_%EC%A0%84%EC%B2%98%EB%A6%AC.ipynb\" target=\"_parent\"><img src=\"https://colab.research.google.com/assets/colab-badge.svg\" alt=\"Open In Colab\"/></a>"
      ]
    },
    {
      "cell_type": "markdown",
      "source": [
        "#**데이터프레임 결합**"
      ],
      "metadata": {
        "id": "JfMKU3QLq4_U"
      }
    },
    {
      "cell_type": "markdown",
      "source": [
        "###상하 결합"
      ],
      "metadata": {
        "id": "e7rVyv93q7k7"
      }
    },
    {
      "cell_type": "code",
      "execution_count": null,
      "metadata": {
        "id": "H-4HwOWhqx6Z"
      },
      "outputs": [],
      "source": [
        "import pandas as pd\n",
        "\n",
        "df1 = pd.DataFrame({'A' : [1, 2, 3], 'B' : [4, 5, 6], 'C' : [7, 8, 9]})\n",
        "df2 = pd.DataFrame({'A' : [10, 11, 12], 'B' : [13, 14, 15], 'C' : [16, 17, 18]})"
      ]
    },
    {
      "cell_type": "code",
      "source": [
        "df1"
      ],
      "metadata": {
        "id": "6tdBcdttq_04"
      },
      "execution_count": null,
      "outputs": []
    },
    {
      "cell_type": "code",
      "source": [
        "df2"
      ],
      "metadata": {
        "id": "oTRI4VzOrAfY"
      },
      "execution_count": null,
      "outputs": []
    },
    {
      "cell_type": "code",
      "source": [
        "pd.concat([df1, df2])"
      ],
      "metadata": {
        "id": "fBmUWVrPrDf7"
      },
      "execution_count": null,
      "outputs": []
    },
    {
      "cell_type": "code",
      "source": [
        "#인덱스 초기화\n",
        "pd.concat([df1, df2], ignore_index = True)"
      ],
      "metadata": {
        "id": "dbDTOfQ3rFBo"
      },
      "execution_count": null,
      "outputs": []
    },
    {
      "cell_type": "code",
      "source": [
        "df3 = pd.DataFrame({'A' : [1, 2, 3], 'B' : [4, 5, 6], 'C' : [7, 8, 9]})\n",
        "df4 = pd.DataFrame({'A' : [10, 11, 12], 'B' : [13, 14, 15], 'C' : [16, 17, 18]})"
      ],
      "metadata": {
        "id": "SIgRxIKrrGjR"
      },
      "execution_count": null,
      "outputs": []
    },
    {
      "cell_type": "code",
      "source": [
        "pd.concat([df3, df4])"
      ],
      "metadata": {
        "id": "sin4FfJfrIAP"
      },
      "execution_count": null,
      "outputs": []
    },
    {
      "cell_type": "code",
      "source": [
        "#합집합\n",
        "pd.concat([df3, df4], join = 'outer')"
      ],
      "metadata": {
        "id": "ifcXqaGprW1W"
      },
      "execution_count": null,
      "outputs": []
    },
    {
      "cell_type": "code",
      "source": [
        "#교집합\n",
        "pd.concat([df3, df4], join = 'inner')"
      ],
      "metadata": {
        "id": "S9fsQ1y5rYHG"
      },
      "execution_count": null,
      "outputs": []
    },
    {
      "cell_type": "markdown",
      "source": [
        "###좌우 결합"
      ],
      "metadata": {
        "id": "gRyr41prrZ6o"
      }
    },
    {
      "cell_type": "code",
      "source": [
        "import pandas as pd\n",
        "\n",
        "df1 = pd.DataFrame({'A' : [1, 2, 3], 'B' : [4, 5, 6], 'C' : [7, 8, 9]})\n",
        "df2 = pd.DataFrame({'E' : [10, 11, 12], 'F' : [13, 14, 15], 'G' : [16, 17, 18]})"
      ],
      "metadata": {
        "id": "jaSsC6QGrbRd"
      },
      "execution_count": null,
      "outputs": []
    },
    {
      "cell_type": "code",
      "source": [
        "pd.concat([df1, df2], axis = 1)"
      ],
      "metadata": {
        "id": "UDR4mBezrc7-"
      },
      "execution_count": null,
      "outputs": []
    },
    {
      "cell_type": "code",
      "source": [
        "df1 = pd.DataFrame({'ID' : [1, 2, 3, 4, 5], '성별' : ['F', 'M', 'F', 'M', 'F'], '나이' : [20, 30, 40, 25, 42]})\n",
        "df2 = pd.DataFrame({'ID' : [3, 4, 5, 6, 7], '키' : [160.5, 170.3, 180.1, 142.3, 153.7], '몸무게' : [45.1, 50.3, 72.1, 38,  42]})"
      ],
      "metadata": {
        "id": "aaywrQ0QretJ"
      },
      "execution_count": null,
      "outputs": []
    },
    {
      "cell_type": "code",
      "source": [
        "#왼쪽 df1의 ID를 기준으로 결합\n",
        "pd.merge(df1, df2, how = 'left', on = 'ID')"
      ],
      "metadata": {
        "id": "tvzP-Su4rf-b"
      },
      "execution_count": null,
      "outputs": []
    },
    {
      "cell_type": "code",
      "source": [
        "#오른쪽 df2의 ID를 기준으로 결합\n",
        "pd.merge(df1, df2, how = 'right', on = 'ID')"
      ],
      "metadata": {
        "id": "CmKMZ6fxrhrg"
      },
      "execution_count": null,
      "outputs": []
    },
    {
      "cell_type": "code",
      "source": [
        "#NaN이 없는 데이터만\n",
        "pd.merge(df1, df2, how = 'inner', on = 'ID')"
      ],
      "metadata": {
        "id": "WgwJ0AsGrjX5"
      },
      "execution_count": null,
      "outputs": []
    },
    {
      "cell_type": "code",
      "source": [
        "#모든 데이터\n",
        "pd.merge(df1, df2, how = 'outer', on = 'ID')"
      ],
      "metadata": {
        "id": "8wg_Ed9Prk4J"
      },
      "execution_count": null,
      "outputs": []
    },
    {
      "cell_type": "code",
      "source": [
        "df1 = pd.DataFrame({'USER_ID' : [1, 2, 3, 4, 5], '성별' : ['F', 'M', 'F', 'M', 'F'], '나이' : [20, 30, 40, 25, 42]})\n",
        "df2 = pd.DataFrame({'ID' : [3, 4, 5, 6, 7], '키' : [160.5, 170.3, 180.1, 142.3, 153.7], '몸무게' : [45.1, 50.3, 72.1, 38,  42]})"
      ],
      "metadata": {
        "id": "bWhaTzRlrmmn"
      },
      "execution_count": null,
      "outputs": []
    },
    {
      "cell_type": "code",
      "source": [
        "#df1의 기준열은 USER_ID, df2의 기준열은 ID\n",
        "pd.merge(df1, df2, how = 'outer', left_on = 'USER_ID', right_on = 'ID')"
      ],
      "metadata": {
        "id": "QJv1RvWsroMU"
      },
      "execution_count": null,
      "outputs": []
    },
    {
      "cell_type": "code",
      "source": [
        "#df1의 기준열은 USER_ID, df2의 기준열은 키\n",
        "pd.merge(df1, df2, how = 'outer', left_on = 'USER_ID', right_on = '키')"
      ],
      "metadata": {
        "id": "pT6giK8srpyv"
      },
      "execution_count": null,
      "outputs": []
    },
    {
      "cell_type": "markdown",
      "source": [
        "#**그룹화**"
      ],
      "metadata": {
        "id": "1ab8ocInrvgf"
      }
    },
    {
      "cell_type": "code",
      "source": [
        "import pandas as pd\n",
        "\n",
        "df1 = pd.DataFrame({'ID' : [1, 2, 3, 4, 5], '가입일' : ['2021-01-02', '2021-01-04', '2021-01-10', '2021-02-10', '2021-02-24'], '성별' : ['F', 'M', 'F', 'M', 'M']})\n",
        "df2 = pd.DataFrame({'구매순서' : [1, 2, 3, 4, 5], 'ID' : [1, 1, 2, 4, 1], '구매월' : [1, 1, 2, 2, 3], '금액' : [1000, 1500, 2000, 3000, 4000]})"
      ],
      "metadata": {
        "id": "ahQLmy_OrvCZ"
      },
      "execution_count": null,
      "outputs": []
    },
    {
      "cell_type": "code",
      "source": [
        "pd.merge(df1, df2, how = 'left', on = 'ID')"
      ],
      "metadata": {
        "id": "_N1bK1U4rzRo"
      },
      "execution_count": null,
      "outputs": []
    },
    {
      "cell_type": "code",
      "source": [
        "#ID별 누적금액\n",
        "df2.groupby(by = ['ID'])['금액'].sum()"
      ],
      "metadata": {
        "id": "Idn_G9uKr0yb"
      },
      "execution_count": null,
      "outputs": []
    },
    {
      "cell_type": "code",
      "source": [
        "#groupby의 결과의 타입은 series\n",
        "type(df2.groupby(by = ['ID'])['금액'].sum())"
      ],
      "metadata": {
        "id": "KG2dhtqzr2U3"
      },
      "execution_count": null,
      "outputs": []
    },
    {
      "cell_type": "code",
      "source": [
        "#ID의 구매별 누적금액\n",
        "s2 = df2.groupby(by = ['ID', '구매월'])['금액'].sum()"
      ],
      "metadata": {
        "id": "HrklhZIFr3vx"
      },
      "execution_count": null,
      "outputs": []
    },
    {
      "cell_type": "code",
      "source": [
        "s2"
      ],
      "metadata": {
        "id": "-DNznSxMr6Mw"
      },
      "execution_count": null,
      "outputs": []
    },
    {
      "cell_type": "code",
      "source": [
        "#구매월 merge 되지 않음\n",
        "pd.merge(df1, s2, how = 'left', on = 'ID')"
      ],
      "metadata": {
        "id": "LvJRaH1or7za"
      },
      "execution_count": null,
      "outputs": []
    },
    {
      "cell_type": "code",
      "source": [
        "#groupby 기준을 인덱스로 사용하지 않으면 해결 -> as_index = False\n",
        "df3 = df2.groupby(by = ['ID', '구매월'], as_index = False)['금액'].sum()"
      ],
      "metadata": {
        "id": "XiICG1e9r93w"
      },
      "execution_count": null,
      "outputs": []
    },
    {
      "cell_type": "code",
      "source": [
        "df3"
      ],
      "metadata": {
        "id": "SbVLdAkGr_P0"
      },
      "execution_count": null,
      "outputs": []
    },
    {
      "cell_type": "code",
      "source": [
        "pd.merge(df1, df3, how = 'left', on = 'ID')"
      ],
      "metadata": {
        "id": "P7l5tnkssAy8"
      },
      "execution_count": null,
      "outputs": []
    },
    {
      "cell_type": "code",
      "source": [
        "df = pd.DataFrame({'구매순서' : [1, 2, 3, 4, 5], 'ID' : [1, 1, 2, 4, 1], '구매월' : [1, 1, 2, 2, 3], '금액' : [1000, 1500, 2000, 3000, 4000], '수수료' : [100, 150, 200, 300, 400]})"
      ],
      "metadata": {
        "id": "y8KmriznsCqn"
      },
      "execution_count": null,
      "outputs": []
    },
    {
      "cell_type": "code",
      "source": [
        "#적용 함수가 여러개인 경우\n",
        "df2 = df.groupby(by = ['ID'])['금액'].agg([sum, len])"
      ],
      "metadata": {
        "id": "M5hcPVSWsEJU"
      },
      "execution_count": null,
      "outputs": []
    },
    {
      "cell_type": "code",
      "source": [
        "#적용함수가 여러개인 경우 as_index = False 대신 다음의 코드를 진행한다.\n",
        "df2.reset_index(inplace = True)"
      ],
      "metadata": {
        "id": "4RDiKmERsHYk"
      },
      "execution_count": null,
      "outputs": []
    },
    {
      "cell_type": "code",
      "source": [
        "pd.merge(df, df2, how = 'left', on = 'ID')"
      ],
      "metadata": {
        "id": "fqlq-elqsJDN"
      },
      "execution_count": null,
      "outputs": []
    },
    {
      "cell_type": "code",
      "source": [
        "df3 = df.groupby(by = ['ID']).agg({'금액' : [max, min], '수수료' : min})"
      ],
      "metadata": {
        "id": "v2BAjMAIsKhs"
      },
      "execution_count": null,
      "outputs": []
    },
    {
      "cell_type": "code",
      "source": [
        "df3.reset_index(inplace=True)"
      ],
      "metadata": {
        "id": "4mslFXi2sMHm"
      },
      "execution_count": null,
      "outputs": []
    },
    {
      "cell_type": "code",
      "source": [
        "df3"
      ],
      "metadata": {
        "id": "flhFk21ysOZB"
      },
      "execution_count": null,
      "outputs": []
    },
    {
      "cell_type": "code",
      "source": [
        "df3.columns.values"
      ],
      "metadata": {
        "id": "9XY5xGdpsPxV"
      },
      "execution_count": null,
      "outputs": []
    },
    {
      "cell_type": "code",
      "source": [
        "#칼럼 명 변경\n",
        "df3.columns = ['_'.join(col) for col in df3.columns.values]"
      ],
      "metadata": {
        "id": "Gv57R0M2sRVK"
      },
      "execution_count": null,
      "outputs": []
    },
    {
      "cell_type": "code",
      "source": [
        "df3"
      ],
      "metadata": {
        "id": "TEdTJZuFsS7l"
      },
      "execution_count": null,
      "outputs": []
    },
    {
      "cell_type": "code",
      "source": [
        "df3.rename(columns={'ID_':'ID'}, inplace=True)"
      ],
      "metadata": {
        "id": "XTF8GjXgsU8n"
      },
      "execution_count": null,
      "outputs": []
    },
    {
      "cell_type": "code",
      "source": [
        "pd.merge(df, df3, how = 'left', on = 'ID') "
      ],
      "metadata": {
        "id": "YFvNOjP2sWUC"
      },
      "execution_count": null,
      "outputs": []
    },
    {
      "cell_type": "markdown",
      "source": [
        "#**피벗테이블**"
      ],
      "metadata": {
        "id": "_hZtw9KOsY20"
      }
    },
    {
      "cell_type": "code",
      "source": [
        "import pandas as pd\n",
        "import numpy as np"
      ],
      "metadata": {
        "id": "5mHvkUB6sZc0"
      },
      "execution_count": null,
      "outputs": []
    },
    {
      "cell_type": "code",
      "source": [
        "df = pd.DataFrame({'가입월' : [1, 1, 1, 2, 2, 3], '탈퇴월' : [1, 2, 3, 2, 3, 3], '탈퇴회원수' : [101, 52, 30, 120, 60, 130]})"
      ],
      "metadata": {
        "id": "fTDyoEwssb9f"
      },
      "execution_count": null,
      "outputs": []
    },
    {
      "cell_type": "code",
      "source": [
        "#피벳 테이블 만들기\n",
        "pivot = pd.pivot_table(df, values = '탈퇴회원수' , index = ['가입월'], columns = ['탈퇴월'])"
      ],
      "metadata": {
        "id": "QLa_LdKQsfam"
      },
      "execution_count": null,
      "outputs": []
    },
    {
      "cell_type": "code",
      "source": [
        "pivot"
      ],
      "metadata": {
        "id": "FICMpDCvshjz"
      },
      "execution_count": null,
      "outputs": []
    },
    {
      "cell_type": "code",
      "source": [
        "#피벳 테이블 만들기, NaN 값 0으로 대체하기\n",
        "pd.pivot_table(df, values = '탈퇴회원수' , index = ['가입월'], columns = ['탈퇴월'], fill_value = 0 )"
      ],
      "metadata": {
        "id": "UpUyRLS4sjLC"
      },
      "execution_count": null,
      "outputs": []
    },
    {
      "cell_type": "code",
      "source": [
        "#과일 품목과 크기 데이터프레임 만들기\n",
        "import random\n",
        "\n",
        "a = []\n",
        "b = []\n",
        "\n",
        "for i in range(10):\n",
        "    a.append(random.randint(1,3))\n",
        "    b.append(random.randint(1,3))"
      ],
      "metadata": {
        "id": "hagupfGRslMZ"
      },
      "execution_count": null,
      "outputs": []
    },
    {
      "cell_type": "code",
      "source": [
        "df = pd.DataFrame({'품목' : a, '크기' : b})"
      ],
      "metadata": {
        "id": "F-pIaKPJsmtu"
      },
      "execution_count": null,
      "outputs": []
    },
    {
      "cell_type": "code",
      "source": [
        "#품목과 크기별로 판매금액과 수수료 칼럼 추가하기\n",
        "df['금액'] = df['품목'] * df['크기'] * 500\n",
        "df['수수료'] = df['금액'] * 0.1"
      ],
      "metadata": {
        "id": "SjnpN0Bfsn8e"
      },
      "execution_count": null,
      "outputs": []
    },
    {
      "cell_type": "code",
      "source": [
        "df"
      ],
      "metadata": {
        "id": "3CwLZmSnsqJl"
      },
      "execution_count": null,
      "outputs": []
    },
    {
      "cell_type": "code",
      "source": [
        "#map함수로 데이터 변환\n",
        "fruit_name = {1 : '토마토', 2 : '바나나', 3 : '사과'}\n",
        "fruit_size = {1 : '소', 2 : '중', 3 : '대'}\n",
        "\n",
        "df['품목'] = df['품목'].map(fruit_name)\n",
        "df['크기'] = df['크기'].map(fruit_size)"
      ],
      "metadata": {
        "id": "Dbgo0vOFsrUf"
      },
      "execution_count": null,
      "outputs": []
    },
    {
      "cell_type": "code",
      "source": [
        "df"
      ],
      "metadata": {
        "id": "choRAWVmsrwz"
      },
      "execution_count": null,
      "outputs": []
    },
    {
      "cell_type": "code",
      "source": [
        "#품목과 크기별 품목 개수와 합계 피벗 테이블 만들기\n",
        "pd.pivot_table(df, values = '금액', index = ['품목'], columns = ['크기'], aggfunc = ( 'count', 'sum'))"
      ],
      "metadata": {
        "id": "4YqnYeC2stuL"
      },
      "execution_count": null,
      "outputs": []
    },
    {
      "cell_type": "code",
      "source": [
        "pd.pivot_table(df, index = ['품목'], columns = ['크기'], aggfunc = {'금액' : ['count', 'sum'], '수수료' : 'sum'})"
      ],
      "metadata": {
        "id": "0mP_IqTgsxIX"
      },
      "execution_count": null,
      "outputs": []
    },
    {
      "cell_type": "markdown",
      "source": [
        "#**파일 호출**"
      ],
      "metadata": {
        "id": "M4K6TsErs0EF"
      }
    },
    {
      "cell_type": "code",
      "source": [
        "#코랩과 구글 드라이브 연결\n",
        "from google.colab import drive\n",
        "drive.mount('/content/drive')"
      ],
      "metadata": {
        "id": "G6S9jaZmszWk"
      },
      "execution_count": null,
      "outputs": []
    },
    {
      "cell_type": "code",
      "source": [
        "import pandas as pd"
      ],
      "metadata": {
        "id": "dv6tKP1ns37j"
      },
      "execution_count": null,
      "outputs": []
    },
    {
      "cell_type": "code",
      "source": [
        "#파일 호출\n",
        "#해당 파일이 데이터프레임 형태로 들어옴\n",
        "\n",
        "#df = pd.read_csv('파일 경로')"
      ],
      "metadata": {
        "id": "gSrcU36As8Ox"
      },
      "execution_count": null,
      "outputs": []
    },
    {
      "cell_type": "code",
      "source": [
        "#처음부터 5행 데이터 출력\n",
        "\n",
        "#df.head()"
      ],
      "metadata": {
        "id": "L_VcXaoBs-xZ"
      },
      "execution_count": null,
      "outputs": []
    },
    {
      "cell_type": "code",
      "source": [
        "#뒤에서부터 5행 데이터 출력\n",
        "\n",
        "#df.tail()"
      ],
      "metadata": {
        "id": "8gwv74kltCQn"
      },
      "execution_count": null,
      "outputs": []
    },
    {
      "cell_type": "code",
      "source": [
        "#첫 번째 열을 인덱스로 사용하고 싶은 경우 \n",
        "\n",
        "#df = pd.read_csv('파일 경로', index_col=0)"
      ],
      "metadata": {
        "id": "KO_SATiktD1G"
      },
      "execution_count": null,
      "outputs": []
    },
    {
      "cell_type": "code",
      "source": [
        "#다른 기호로 구분자가 사용된 파일인 경우\n",
        "\n",
        "#df = pd.read_csv('파일 경로', index_col=0, sep='구분자')"
      ],
      "metadata": {
        "id": "XRVFPStytFy3"
      },
      "execution_count": null,
      "outputs": []
    },
    {
      "cell_type": "markdown",
      "source": [
        "![image.png](data:image/png;base64,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)"
      ],
      "metadata": {
        "id": "S1LW6tl3fdLy"
      }
    },
    {
      "cell_type": "code",
      "source": [
        "#헤더가 여러줄인 경우 ->1까지가 헤더라는 걸을 의미\n",
        "\n",
        "#df = pd.read_csv('파일 경로', index_col=0, header=1)"
      ],
      "metadata": {
        "id": "mnrYa2Dztn1h"
      },
      "execution_count": null,
      "outputs": []
    },
    {
      "cell_type": "markdown",
      "source": [
        ""
      ],
      "metadata": {
        "id": "jL-m7x2CttKg"
      }
    },
    {
      "cell_type": "markdown",
      "source": [
        "![image.png](data:image/png;base64,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)"
      ],
      "metadata": {
        "id": "1coEiqvffsC7"
      }
    },
    {
      "cell_type": "code",
      "source": [
        "#데이터만 존재하고 칼럼명이 없는 경우\n",
        "\n",
        "#df = pd.read_csv('파일 경로', index_col=0, index_col=0, names = ['칼럼명1', '칼럼명2', '칼럼명3'])"
      ],
      "metadata": {
        "id": "KFyZmLMYtvge"
      },
      "execution_count": null,
      "outputs": []
    },
    {
      "cell_type": "code",
      "source": [
        "#원한는 칼럼 데이터만 사용하고 싶은 경우\n",
        "\n",
        "#df = pd.read_csv('파일 경로', index_col=0, usecols=['칼럼명1', '칼럼명2'])"
      ],
      "metadata": {
        "id": "wVgOQ2Shtw2v"
      },
      "execution_count": null,
      "outputs": []
    },
    {
      "cell_type": "code",
      "source": [
        "#파일 저장하기\n",
        "\n",
        "#df.to_csv('파일 경로')"
      ],
      "metadata": {
        "id": "NwhmPDUWtya-"
      },
      "execution_count": null,
      "outputs": []
    }
  ]
}